{
 "cells": [
  {
   "cell_type": "code",
   "execution_count": null,
   "id": "e9f29db3",
   "metadata": {},
   "outputs": [],
   "source": [
    "\n",
    "# notebook to analyze webgpu shaders"
   ]
  },
  {
   "cell_type": "code",
   "execution_count": null,
   "id": "0ac0c311",
   "metadata": {},
   "outputs": [],
   "source": [
    "\n",
    "import warnings\n",
    "warnings.filterwarnings('ignore')\n",
    "\n",
    "%matplotlib inline\n",
    "import numpy as np\n",
    "import pandas as pd\n",
    "import matplotlib.pyplot as plt\n",
    "import seaborn as sns\n",
    "import re\n",
    "import json\n",
    "\n",
    "plt.figure(dpi=1200);\n",
    "pd.set_option('display.max_rows', None)\n",
    "pd.set_option('display.max_colwidth', 120)"
   ]
  },
  {
   "cell_type": "code",
   "execution_count": null,
   "id": "fad88117",
   "metadata": {},
   "outputs": [],
   "source": [
    "def json_to_df(profile_path, idx):\n",
    "    entries = []\n",
    "    seen = 0\n",
    "    \n",
    "    with open(profile_path, \"r\") as f:\n",
    "        data = json.load(f)\n",
    "\n",
    "    if type(data) == dict:\n",
    "        data = data['traceEvents']\n",
    "\n",
    "    first_name = None\n",
    "\n",
    "    for item in data:\n",
    "        dur = item.get(\"dur\")\n",
    "        if dur is None:\n",
    "            continue\n",
    "        cat = item.get(\"cat\")\n",
    "        if cat not in [\"Api\"]:\n",
    "            continue\n",
    "        arg = item.get('args')\n",
    "        if not arg:\n",
    "            continue\n",
    "        ts = item.get(\"ts\")\n",
    "        name = item['name']\n",
    "        if not first_name:\n",
    "            first_name = name\n",
    "        if first_name == name:\n",
    "            seen += 1\n",
    "        if seen != idx:              \n",
    "            continue\n",
    "        shapes = arg.get('shapes')\n",
    "        cols = name.split(\"&\")\n",
    "        \n",
    "        e = {\n",
    "            \"ts\": ts, \"name\": cols[0], \"op_type\": cols[1], \"shader\": cols[2], \"key\": name, \"dur\": dur, \"shape\": shapes,\n",
    "        }\n",
    "        entries.append(e)\n",
    "    df = pd.DataFrame([f for f in entries])\n",
    "    df['count'] = 1\n",
    "    return df\n",
    "\n",
    "\n",
    "def show(csv, idx, shape=False, filter=None):\n",
    "    df = json_to_df(csv, idx)\n",
    "    ts_total = df['ts'].iloc[-1] - df['ts'].iloc[0]\n",
    "    df2 = df[['dur', 'count']].sum()\n",
    "    df['pct'] = (100 * df['dur'] / df2['dur'])\n",
    "    top = 50\n",
    "    digits = 2\n",
    "    key = [\"shader\"]\n",
    "\n",
    "    if filter:\n",
    "        df = df[df['shader'].str.contains(filter)]\n",
    "\n",
    "    if shape:\n",
    "        key.append(\"shape\")\n",
    "    # key = [\"shader\"]\n",
    "    fields = key.copy()\n",
    "    fields.extend([\"dur\", \"pct\", \"count\"]) \n",
    "    df1 = df[fields].groupby(key).sum()\n",
    "    df1 = df1.sort_values(by=['dur'], ascending=False) # [:top]\n",
    "    df1['avg'] = df1['dur'] / df1['count']\n",
    "    df1['csum_dur'] = df1['dur'].cumsum()\n",
    "    df1['csum'] = df1['pct'].cumsum()\n",
    "    df1['pct_total'] = 100 * df1['csum_dur'] / ts_total\n",
    "    print(f\"\\n-- Top shader by total runtime, {csv}\\n\")\n",
    "    print(df1.round(digits).to_string(index=True))\n",
    "    return df1\n",
    "\n"
   ]
  },
  {
   "cell_type": "code",
   "execution_count": null,
   "id": "54486d41",
   "metadata": {},
   "outputs": [],
   "source": [
    "df_samsung_default= show(\"C:\\dev\\perf_results\\samsung\\samsung_default_yolo11n_2025-04-25_16-53-53.json\", 1, True, \"MatMul\").sort_index()\n",
    "df_samsung_workgroup = show(\"C:\\dev\\perf_results\\samsung\\samsung_default_yolo11n_4_4_1_4_4_1_16_2025-04-25_16-55-18.json\", 1, True, \"MatMul\").sort_index()\n",
    "\n",
    "comparison_df =  df_samsung_default[['avg']].join(\n",
    "    df_samsung_workgroup[['avg']],\n",
    "    lsuffix='_default',\n",
    "    rsuffix='_workgroup'\n",
    ")\n",
    "comparison_df['ratio'] = comparison_df['avg_default'] / comparison_df['avg_workgroup']\n",
    "\n",
    "comparison_df = comparison_df.sort_values(by='ratio', ascending=False)\n",
    "\n",
    "print(comparison_df.round(2))"
   ]
  },
  {
   "cell_type": "code",
   "execution_count": null,
   "id": "e16dcff0",
   "metadata": {},
   "outputs": [],
   "source": [
    "df_pixel_default= show(\"C:\\dev\\perf_results\\pixel\\perf_results\\yolo11n_pixel_fp32_default_2025-04-25_15-52-17.json\", 1, True, \"MatMul\").sort_index()\n",
    "df_pixel_workgroup = show(\"C:\\dev\\perf_results\\pixel\\perf_results\\yolo11n_pixel_fp32_4_4_1_4_4_1_16_2025-04-25_15-52-02.json\", 1, True, \"MatMul\").sort_index()\n",
    "\n",
    "comparison_df =  df_pixel_default[['avg']].join(\n",
    "    df_pixel_workgroup[['avg']],\n",
    "    lsuffix='_default',\n",
    "    rsuffix='_workgroup'\n",
    ")\n",
    "comparison_df['ratio'] = comparison_df['avg_default'] / comparison_df['avg_workgroup']\n",
    "\n",
    "comparison_df = comparison_df.sort_values(by='ratio', ascending=False)\n",
    "\n",
    "print(comparison_df.round(2))\n"
   ]
  },
  {
   "cell_type": "code",
   "execution_count": null,
   "id": "52d30aca",
   "metadata": {},
   "outputs": [],
   "source": [
    "df_samsung = show(\"C:/dev/perf_results/samsung/yolo11n_fp32_samsung_webgpu_2025-04-22_14-56-25.json\", 1, True, \"Transpose\").sort_index()\n",
    "\n",
    "df_pixel = show(\"C:/dev/perf_results/pixel/perf_results/yolo11n_fp32_pixel_webgpu_2025-04-22_14-56-24.json\", 1, True, \"Transpose\").sort_index()\n",
    "\n",
    "# calculate average duration ratio samsung vs pixel for each matmul shader shape\n",
    "# Join the two dataframes on their index (shader + shape)\n",
    "comparison_df = df_samsung[['avg']].join(\n",
    "    df_pixel[['avg']],\n",
    "    lsuffix='_samsung',\n",
    "    rsuffix='_pixel'\n",
    ")\n",
    "\n",
    "# Compute the ratio of avg duration\n",
    "comparison_df['ratio_pixel_to_samsung'] = comparison_df['avg_pixel'] / comparison_df['avg_samsung']\n",
    "\n",
    "# Optional: sort by ratio to see which shape is worse on Pixel\n",
    "comparison_df = comparison_df.sort_values(by='ratio_pixel_to_samsung', ascending=False)\n",
    "\n",
    "# Display the result\n",
    "print(comparison_df.round(2))"
   ]
  },
  {
   "cell_type": "code",
   "execution_count": null,
   "id": "58db0f2f",
   "metadata": {},
   "outputs": [],
   "source": [
    "\n",
    "show(\"./webgpu_matmul_2025-04-10_14-38-38.json\", 1)\n",
    "show(\"./webgpu_matmul_2025-04-10_14-38-38.json\", 2)\n"
   ]
  },
  {
   "cell_type": "code",
   "execution_count": null,
   "id": "0d63f52f",
   "metadata": {},
   "outputs": [],
   "source": [
    "show(\"./yolo11n_webgpu_2025-04-17_14-25-43.json\", 1)\n",
    "show(\"./yolo_webgpu_fp32_2025-04-17_17-07-40.json\", 1)"
   ]
  },
  {
   "cell_type": "code",
   "execution_count": null,
   "id": "bb6d7c3d",
   "metadata": {},
   "outputs": [],
   "source": [
    "show(\"./resnet_webgpu_2025-04-17_16-45-24.json\", 1)"
   ]
  },
  {
   "cell_type": "code",
   "execution_count": null,
   "id": "5228e5ca",
   "metadata": {},
   "outputs": [],
   "source": [
    "show(\"./yolo11n_webgpu_2025-04-17_14-25-43.json\", 1)\n",
    "show(\"./pixel_webgpu_yolo_fp16_2025-04-17_18-10-34.json\", 3)"
   ]
  },
  {
   "cell_type": "code",
   "execution_count": null,
   "id": "1b9d1b02",
   "metadata": {},
   "outputs": [],
   "source": [
    "show(\"C:/dev/perf_results/samsung/yolo11n_fp32_samsung_webgpu_2025-04-22_14-56-25.json\", 1, False)\n",
    "\n",
    "show(\"C:\\dev\\perf_results\\pixel\\perf_results\\yolo11n_fp32_pixel_webgpu_2025-04-22_14-56-24.json\", 1, False)\n",
    "\n"
   ]
  }
 ],
 "metadata": {
  "kernelspec": {
   "display_name": "Python 3",
   "language": "python",
   "name": "python3"
  },
  "language_info": {
   "codemirror_mode": {
    "name": "ipython",
    "version": 3
   },
   "file_extension": ".py",
   "mimetype": "text/x-python",
   "name": "python",
   "nbconvert_exporter": "python",
   "pygments_lexer": "ipython3",
   "version": "3.13.3"
  }
 },
 "nbformat": 4,
 "nbformat_minor": 5
}
